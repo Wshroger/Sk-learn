{
 "cells": [
  {
   "cell_type": "markdown",
   "metadata": {
    "collapsed": true
   },
   "source": [
    "## <center>Supervised Learning</center>\n",
    "\n",
    "- making inferences from labeled data.\n",
    "\n",
    "#### 1. Classification (categorical data)\n",
    "- binary classification (tumor: benign, malignant)\n",
    "- multiclass classification (books: maths, physics, stats, psychology, etc.)\n",
    "- example algorithms: KNN, Linear Models, Decision Trees, SVMs, etc.\n",
    "\n",
    "#### 2. Regression (continuous data)\n",
    "- predicting income, price of stock, age, and other continous data \n",
    "- example algorithms: KNN, Linear Models, Decision Trees, SVMs, etc.\n",
    "___\n",
    "\n",
    "Linear models (LinReg, LogReg, Lasso, Ridged, etc) - make predictions according to a linear function of the input features. <br>\n",
    "Many ML algorithms (including those specified above) can be used for both classification and regression."
   ]
  },
  {
   "cell_type": "code",
   "execution_count": 1,
   "metadata": {},
   "outputs": [
    {
     "name": "stderr",
     "output_type": "stream",
     "text": [
      "C:\\Users\\k738904\\AppData\\Local\\Continuum\\anaconda3\\lib\\site-packages\\sklearn\\linear_model\\logistic.py:433: FutureWarning: Default solver will be changed to 'lbfgs' in 0.22. Specify a solver to silence this warning.\n",
      "  FutureWarning)\n"
     ]
    },
    {
     "data": {
      "text/plain": [
       "LogisticRegression(C=1.0, class_weight=None, dual=False, fit_intercept=True,\n",
       "          intercept_scaling=1, max_iter=100, multi_class='warn',\n",
       "          n_jobs=None, penalty='l2', random_state=None, solver='warn',\n",
       "          tol=0.0001, verbose=0, warm_start=False)"
      ]
     },
     "execution_count": 1,
     "metadata": {},
     "output_type": "execute_result"
    }
   ],
   "source": [
    "# Using LogisticRegression on the cancer dataset. Inspired by Muller and Guido ML book: (https://www.amazon.com/dp/1449369413/)\n",
    "\n",
    "from sklearn.datasets import load_breast_cancer\n",
    "from sklearn.linear_model import LogisticRegression\n",
    "from sklearn.model_selection import train_test_split\n",
    "\n",
    "import matplotlib.pyplot as plt\n",
    "%matplotlib inline\n",
    "\n",
    "cancer = load_breast_cancer()\n",
    "\n",
    "X_train, X_test, y_train, y_test = train_test_split(cancer.data, cancer.target, stratify=cancer.target, random_state=42)\n",
    "\n",
    "log_reg = LogisticRegression()\n",
    "log_reg.fit(X_train, y_train)"
   ]
  },
  {
   "cell_type": "code",
   "execution_count": 2,
   "metadata": {},
   "outputs": [
    {
     "name": "stdout",
     "output_type": "stream",
     "text": [
      "Accuracy on the training subset: 0.955\n",
      "Accuracy on the test subset: 0.958\n"
     ]
    }
   ],
   "source": [
    "print('Accuracy on the training subset: {:.3f}'.format(log_reg.score(X_train, y_train)))\n",
    "print('Accuracy on the test subset: {:.3f}'.format(log_reg.score(X_test, y_test)))"
   ]
  },
  {
   "cell_type": "markdown",
   "metadata": {
    "collapsed": true
   },
   "source": [
    "**Regularization**:\n",
    "\n",
    "- prevention of overfitting - (according to Muller and Guido ML book)\n",
    "- L1 - assumes only a few features are important\n",
    "- L2 - does not assume only a few features are important - used by default in scikit-learn LogisticRegression\n",
    "               \n",
    "**'C'**:\n",
    "\n",
    "- parameter to control the strength of regularization\n",
    "- lower C => log_reg adjusts to the majority of data points.\n",
    "- higher C => correct classification of each data point."
   ]
  },
  {
   "cell_type": "code",
   "execution_count": 3,
   "metadata": {},
   "outputs": [
    {
     "name": "stdout",
     "output_type": "stream",
     "text": [
      "Accuracy on the training subset: 0.972\n",
      "Accuracy on the test subset: 0.965\n"
     ]
    },
    {
     "name": "stderr",
     "output_type": "stream",
     "text": [
      "C:\\Users\\k738904\\AppData\\Local\\Continuum\\anaconda3\\lib\\site-packages\\sklearn\\linear_model\\logistic.py:433: FutureWarning: Default solver will be changed to 'lbfgs' in 0.22. Specify a solver to silence this warning.\n",
      "  FutureWarning)\n"
     ]
    }
   ],
   "source": [
    "log_reg100 = LogisticRegression(C=100)\n",
    "log_reg100.fit(X_train, y_train)\n",
    "print('Accuracy on the training subset: {:.3f}'.format(log_reg100.score(X_train, y_train)))\n",
    "print('Accuracy on the test subset: {:.3f}'.format(log_reg100.score(X_test, y_test)))"
   ]
  },
  {
   "cell_type": "code",
   "execution_count": 4,
   "metadata": {},
   "outputs": [
    {
     "name": "stdout",
     "output_type": "stream",
     "text": [
      "Accuracy on the training subset: 0.934\n",
      "Accuracy on the test subset: 0.930\n"
     ]
    },
    {
     "name": "stderr",
     "output_type": "stream",
     "text": [
      "C:\\Users\\k738904\\AppData\\Local\\Continuum\\anaconda3\\lib\\site-packages\\sklearn\\linear_model\\logistic.py:433: FutureWarning: Default solver will be changed to 'lbfgs' in 0.22. Specify a solver to silence this warning.\n",
      "  FutureWarning)\n"
     ]
    }
   ],
   "source": [
    "log_reg001 = LogisticRegression(C=0.01)\n",
    "log_reg001.fit(X_train, y_train)\n",
    "print('Accuracy on the training subset: {:.3f}'.format(log_reg001.score(X_train, y_train)))\n",
    "print('Accuracy on the test subset: {:.3f}'.format(log_reg001.score(X_test, y_test)))"
   ]
  },
  {
   "cell_type": "markdown",
   "metadata": {
    "collapsed": true
   },
   "source": [
    "### Linear Models (in general): \n",
    "\n",
    "#### <center> y = w * x + b </center>\n",
    "\n",
    "- w - slope (or coefficient) - accessed via <raw>.coef_</raw>\n",
    "- b - offset (or intercept) - access via <raw>.intercept_</raw>\n",
    "- w and b are learned parameters\n",
    "- y - prediction (decision)\n",
    "\n",
    "Example (for a dataset with only 1 input features): ŷ = w[0] * x[0] + b \n",
    "\n",
    "### For Logistic Regression (specifically):\n",
    "\n",
    "#### <center> ŷ = w[0] \\* x[0] + w[1] \\* x[1] + ... + w[p] \\* x[p] + b > 0</center>"
   ]
  },
  {
   "cell_type": "code",
   "execution_count": 5,
   "metadata": {},
   "outputs": [
    {
     "name": "stdout",
     "output_type": "stream",
     "text": [
      "w[0]: 0.393906  b: -0.031804\n"
     ]
    },
    {
     "data": {
      "image/png": "[encoded data removed]",
      "text/plain": [
       "<Figure size 576x576 with 1 Axes>"
      ]
     },
     "metadata": {
      "needs_background": "light"
     },
     "output_type": "display_data"
    }
   ],
   "source": [
    "import mglearn # credits to Muller and Guido 2016 (link above)\n",
    "mglearn.plots.plot_linear_regression_wave()"
   ]
  },
  {
   "cell_type": "code",
   "execution_count": 6,
   "metadata": {},
   "outputs": [
    {
     "data": {
      "text/plain": [
       "(569, 30)"
      ]
     },
     "execution_count": 6,
     "metadata": {},
     "output_type": "execute_result"
    }
   ],
   "source": [
    "cancer.data.shape"
   ]
  },
  {
   "cell_type": "code",
   "execution_count": 11,
   "metadata": {},
   "outputs": [
    {
     "data": {
      "text/plain": [
       "array([[ 1.90876683e+00],\n",
       "       [ 9.98788148e-02],\n",
       "       [-7.65567571e-02],\n",
       "       [ 1.30875965e-03],\n",
       "       [-1.36948317e-01],\n",
       "       [-3.86693503e-01],\n",
       "       [-5.71948682e-01],\n",
       "       [-2.83323656e-01],\n",
       "       [-2.23813863e-01],\n",
       "       [-3.50526844e-02]])"
      ]
     },
     "execution_count": 11,
     "metadata": {},
     "output_type": "execute_result"
    }
   ],
   "source": [
    "log_reg.coef_.T[:10]"
   ]
  },
  {
   "cell_type": "code",
   "execution_count": 13,
   "metadata": {},
   "outputs": [
    {
     "data": {
      "text/plain": [
       "range(0, 30)"
      ]
     },
     "execution_count": 13,
     "metadata": {},
     "output_type": "execute_result"
    }
   ],
   "source": [
    "range(cancer.data.shape[1])"
   ]
  },
  {
   "cell_type": "code",
   "execution_count": 15,
   "metadata": {},
   "outputs": [
    {
     "data": {
      "text/plain": [
       "<matplotlib.legend.Legend at 0x1a40dbd3978>"
      ]
     },
     "execution_count": 15,
     "metadata": {},
     "output_type": "execute_result"
    },
    {
     "data": {
      "image/png": "[encoded data removed]",
      "text/plain": [
       "<Figure size 432x288 with 1 Axes>"
      ]
     },
     "metadata": {
      "needs_background": "light"
     },
     "output_type": "display_data"
    }
   ],
   "source": [
    "plt.plot(log_reg.coef_.T, 'o', label='C=1')\n",
    "plt.plot(log_reg100.coef_.T, '^', label='C=100')\n",
    "plt.plot(log_reg001.coef_.T, 'v', label='C=0.01')\n",
    "plt.xticks(range(cancer.data.shape[1]), cancer.feature_names, rotation=90)\n",
    "plt.hlines(0,0, cancer.data.shape[1])\n",
    "plt.ylim(-5,5)\n",
    "plt.xlabel('Coefficient Index')\n",
    "plt.ylabel('Coefficient Magnitude')\n",
    "plt.legend()"
   ]
  },
  {
   "cell_type": "code",
   "execution_count": null,
   "metadata": {
    "collapsed": true
   },
   "outputs": [],
   "source": []
  }
 ],
 "metadata": {
  "kernelspec": {
   "display_name": "Python 3",
   "language": "python",
   "name": "python3"
  },
  "language_info": {
   "codemirror_mode": {
    "name": "ipython",
    "version": 3
   },
   "file_extension": ".py",
   "mimetype": "text/x-python",
   "name": "python",
   "nbconvert_exporter": "python",
   "pygments_lexer": "ipython3",
   "version": "3.7.3"
  }
 },
 "nbformat": 4,
 "nbformat_minor": 2
}
